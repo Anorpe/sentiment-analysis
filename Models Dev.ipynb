{
 "cells": [
  {
   "cell_type": "code",
   "execution_count": 41,
   "metadata": {
    "colab": {
     "base_uri": "https://localhost:8080/"
    },
    "executionInfo": {
     "elapsed": 20268,
     "status": "ok",
     "timestamp": 1652852814488,
     "user": {
      "displayName": "Andres Orrego Perez",
      "userId": "03068921959993022654"
     },
     "user_tz": 300
    },
    "id": "nHwmzoOHslje",
    "outputId": "4a45764b-f2f7-4a00-8329-614b132ef8a8"
   },
   "outputs": [
    {
     "name": "stdout",
     "output_type": "stream",
     "text": [
      "Mounted at /gdrive\n",
      "/gdrive/My Drive/Prueba Tecnica Cala Analytics/sentiment-analysis\n"
     ]
    }
   ],
   "source": [
    "from google.colab import drive\n",
    "drive.mount('/gdrive')\n",
    "%cd /gdrive/My\\ Drive/Prueba Tecnica Cala Analytics/sentiment-analysis"
   ]
  },
  {
   "cell_type": "code",
   "execution_count": 1,
   "metadata": {
    "colab": {
     "base_uri": "https://localhost:8080/"
    },
    "executionInfo": {
     "elapsed": 11667,
     "status": "ok",
     "timestamp": 1652851392241,
     "user": {
      "displayName": "Andres Orrego Perez",
      "userId": "03068921959993022654"
     },
     "user_tz": 300
    },
    "id": "hCfqdG2Cnmv2",
    "outputId": "c766006e-de7c-4050-f1d1-83e963b51c96"
   },
   "outputs": [
    {
     "name": "stdout",
     "output_type": "stream",
     "text": [
      "Collecting google-play-scraper\n",
      "  Downloading google-play-scraper-1.0.5.tar.gz (52 kB)\n",
      "\u001b[K     |████████████████████████████████| 52 kB 869 kB/s eta 0:00:011\n",
      "\u001b[?25hBuilding wheels for collected packages: google-play-scraper\n",
      "  Building wheel for google-play-scraper (setup.py) ... \u001b[?25l\u001b[?25hdone\n",
      "  Created wheel for google-play-scraper: filename=google_play_scraper-1.0.5-py3-none-any.whl size=24484 sha256=f74580a9a6bbbf1cc914adaf72b918a36a5026914957db921bb4e0d31643e005\n",
      "  Stored in directory: /root/.cache/pip/wheels/4a/26/18/48fda51f20c9e550c735fa6f3a6887dc8836f8d709a3cf8a9c\n",
      "Successfully built google-play-scraper\n",
      "Installing collected packages: google-play-scraper\n",
      "Successfully installed google-play-scraper-1.0.5\n"
     ]
    }
   ],
   "source": [
    "!pip install google-play-scraper"
   ]
  },
  {
   "cell_type": "code",
   "execution_count": 2,
   "metadata": {
    "colab": {
     "base_uri": "https://localhost:8080/"
    },
    "executionInfo": {
     "elapsed": 7518,
     "status": "ok",
     "timestamp": 1652851399751,
     "user": {
      "displayName": "Andres Orrego Perez",
      "userId": "03068921959993022654"
     },
     "user_tz": 300
    },
    "id": "QEYbxN93nmv7",
    "outputId": "63fbf65f-8ce7-44d7-c42f-6d49fa231a54"
   },
   "outputs": [
    {
     "name": "stdout",
     "output_type": "stream",
     "text": [
      "Collecting autokeras\n",
      "  Downloading autokeras-1.0.19-py3-none-any.whl (162 kB)\n",
      "\u001b[K     |████████████████████████████████| 162 kB 7.6 MB/s eta 0:00:01\n",
      "\u001b[?25hRequirement already satisfied: packaging in /usr/local/lib/python3.7/dist-packages (from autokeras) (21.3)\n",
      "Requirement already satisfied: pandas in /usr/local/lib/python3.7/dist-packages (from autokeras) (1.3.5)\n",
      "Collecting keras-tuner>=1.1.0\n",
      "  Downloading keras_tuner-1.1.2-py3-none-any.whl (133 kB)\n",
      "\u001b[K     |████████████████████████████████| 133 kB 52.6 MB/s \n",
      "\u001b[?25hRequirement already satisfied: tensorflow>=2.8.0 in /usr/local/lib/python3.7/dist-packages (from autokeras) (2.8.0+zzzcolab20220506162203)\n",
      "Requirement already satisfied: ipython in /usr/local/lib/python3.7/dist-packages (from keras-tuner>=1.1.0->autokeras) (5.5.0)\n",
      "Requirement already satisfied: numpy in /usr/local/lib/python3.7/dist-packages (from keras-tuner>=1.1.0->autokeras) (1.21.6)\n",
      "Requirement already satisfied: requests in /usr/local/lib/python3.7/dist-packages (from keras-tuner>=1.1.0->autokeras) (2.23.0)\n",
      "Collecting kt-legacy\n",
      "  Downloading kt_legacy-1.0.4-py3-none-any.whl (9.6 kB)\n",
      "Requirement already satisfied: tensorboard in /usr/local/lib/python3.7/dist-packages (from keras-tuner>=1.1.0->autokeras) (2.8.0)\n",
      "Requirement already satisfied: tensorflow-io-gcs-filesystem>=0.23.1 in /usr/local/lib/python3.7/dist-packages (from tensorflow>=2.8.0->autokeras) (0.25.0)\n",
      "Requirement already satisfied: absl-py>=0.4.0 in /usr/local/lib/python3.7/dist-packages (from tensorflow>=2.8.0->autokeras) (1.0.0)\n",
      "Requirement already satisfied: opt-einsum>=2.3.2 in /usr/local/lib/python3.7/dist-packages (from tensorflow>=2.8.0->autokeras) (3.3.0)\n",
      "Requirement already satisfied: termcolor>=1.1.0 in /usr/local/lib/python3.7/dist-packages (from tensorflow>=2.8.0->autokeras) (1.1.0)\n",
      "Collecting tf-estimator-nightly==2.8.0.dev2021122109\n",
      "  Downloading tf_estimator_nightly-2.8.0.dev2021122109-py2.py3-none-any.whl (462 kB)\n",
      "\u001b[K     |████████████████████████████████| 462 kB 40.6 MB/s \n",
      "\u001b[?25hRequirement already satisfied: six>=1.12.0 in /usr/local/lib/python3.7/dist-packages (from tensorflow>=2.8.0->autokeras) (1.15.0)\n",
      "Requirement already satisfied: keras<2.9,>=2.8.0rc0 in /usr/local/lib/python3.7/dist-packages (from tensorflow>=2.8.0->autokeras) (2.8.0)\n",
      "Requirement already satisfied: keras-preprocessing>=1.1.1 in /usr/local/lib/python3.7/dist-packages (from tensorflow>=2.8.0->autokeras) (1.1.2)\n",
      "Requirement already satisfied: protobuf>=3.9.2 in /usr/local/lib/python3.7/dist-packages (from tensorflow>=2.8.0->autokeras) (3.17.3)\n",
      "Requirement already satisfied: typing-extensions>=3.6.6 in /usr/local/lib/python3.7/dist-packages (from tensorflow>=2.8.0->autokeras) (4.2.0)\n",
      "Requirement already satisfied: gast>=0.2.1 in /usr/local/lib/python3.7/dist-packages (from tensorflow>=2.8.0->autokeras) (0.5.3)\n",
      "Requirement already satisfied: google-pasta>=0.1.1 in /usr/local/lib/python3.7/dist-packages (from tensorflow>=2.8.0->autokeras) (0.2.0)\n",
      "Requirement already satisfied: libclang>=9.0.1 in /usr/local/lib/python3.7/dist-packages (from tensorflow>=2.8.0->autokeras) (14.0.1)\n",
      "Requirement already satisfied: flatbuffers>=1.12 in /usr/local/lib/python3.7/dist-packages (from tensorflow>=2.8.0->autokeras) (2.0)\n",
      "Requirement already satisfied: wrapt>=1.11.0 in /usr/local/lib/python3.7/dist-packages (from tensorflow>=2.8.0->autokeras) (1.14.1)\n",
      "Requirement already satisfied: h5py>=2.9.0 in /usr/local/lib/python3.7/dist-packages (from tensorflow>=2.8.0->autokeras) (3.1.0)\n",
      "Requirement already satisfied: setuptools in /usr/local/lib/python3.7/dist-packages (from tensorflow>=2.8.0->autokeras) (57.4.0)\n",
      "Requirement already satisfied: grpcio<2.0,>=1.24.3 in /usr/local/lib/python3.7/dist-packages (from tensorflow>=2.8.0->autokeras) (1.46.1)\n",
      "Requirement already satisfied: astunparse>=1.6.0 in /usr/local/lib/python3.7/dist-packages (from tensorflow>=2.8.0->autokeras) (1.6.3)\n",
      "Requirement already satisfied: wheel<1.0,>=0.23.0 in /usr/local/lib/python3.7/dist-packages (from astunparse>=1.6.0->tensorflow>=2.8.0->autokeras) (0.37.1)\n",
      "Requirement already satisfied: cached-property in /usr/local/lib/python3.7/dist-packages (from h5py>=2.9.0->tensorflow>=2.8.0->autokeras) (1.5.2)\n",
      "Requirement already satisfied: markdown>=2.6.8 in /usr/local/lib/python3.7/dist-packages (from tensorboard->keras-tuner>=1.1.0->autokeras) (3.3.7)\n",
      "Requirement already satisfied: tensorboard-data-server<0.7.0,>=0.6.0 in /usr/local/lib/python3.7/dist-packages (from tensorboard->keras-tuner>=1.1.0->autokeras) (0.6.1)\n",
      "Requirement already satisfied: tensorboard-plugin-wit>=1.6.0 in /usr/local/lib/python3.7/dist-packages (from tensorboard->keras-tuner>=1.1.0->autokeras) (1.8.1)\n",
      "Requirement already satisfied: google-auth-oauthlib<0.5,>=0.4.1 in /usr/local/lib/python3.7/dist-packages (from tensorboard->keras-tuner>=1.1.0->autokeras) (0.4.6)\n",
      "Requirement already satisfied: google-auth<3,>=1.6.3 in /usr/local/lib/python3.7/dist-packages (from tensorboard->keras-tuner>=1.1.0->autokeras) (1.35.0)\n",
      "Requirement already satisfied: werkzeug>=0.11.15 in /usr/local/lib/python3.7/dist-packages (from tensorboard->keras-tuner>=1.1.0->autokeras) (1.0.1)\n",
      "Requirement already satisfied: rsa<5,>=3.1.4 in /usr/local/lib/python3.7/dist-packages (from google-auth<3,>=1.6.3->tensorboard->keras-tuner>=1.1.0->autokeras) (4.8)\n",
      "Requirement already satisfied: cachetools<5.0,>=2.0.0 in /usr/local/lib/python3.7/dist-packages (from google-auth<3,>=1.6.3->tensorboard->keras-tuner>=1.1.0->autokeras) (4.2.4)\n",
      "Requirement already satisfied: pyasn1-modules>=0.2.1 in /usr/local/lib/python3.7/dist-packages (from google-auth<3,>=1.6.3->tensorboard->keras-tuner>=1.1.0->autokeras) (0.2.8)\n",
      "Requirement already satisfied: requests-oauthlib>=0.7.0 in /usr/local/lib/python3.7/dist-packages (from google-auth-oauthlib<0.5,>=0.4.1->tensorboard->keras-tuner>=1.1.0->autokeras) (1.3.1)\n",
      "Requirement already satisfied: importlib-metadata>=4.4 in /usr/local/lib/python3.7/dist-packages (from markdown>=2.6.8->tensorboard->keras-tuner>=1.1.0->autokeras) (4.11.3)\n",
      "Requirement already satisfied: zipp>=0.5 in /usr/local/lib/python3.7/dist-packages (from importlib-metadata>=4.4->markdown>=2.6.8->tensorboard->keras-tuner>=1.1.0->autokeras) (3.8.0)\n",
      "Requirement already satisfied: pyasn1<0.5.0,>=0.4.6 in /usr/local/lib/python3.7/dist-packages (from pyasn1-modules>=0.2.1->google-auth<3,>=1.6.3->tensorboard->keras-tuner>=1.1.0->autokeras) (0.4.8)\n",
      "Requirement already satisfied: idna<3,>=2.5 in /usr/local/lib/python3.7/dist-packages (from requests->keras-tuner>=1.1.0->autokeras) (2.10)\n",
      "Requirement already satisfied: chardet<4,>=3.0.2 in /usr/local/lib/python3.7/dist-packages (from requests->keras-tuner>=1.1.0->autokeras) (3.0.4)\n",
      "Requirement already satisfied: certifi>=2017.4.17 in /usr/local/lib/python3.7/dist-packages (from requests->keras-tuner>=1.1.0->autokeras) (2021.10.8)\n",
      "Requirement already satisfied: urllib3!=1.25.0,!=1.25.1,<1.26,>=1.21.1 in /usr/local/lib/python3.7/dist-packages (from requests->keras-tuner>=1.1.0->autokeras) (1.24.3)\n",
      "Requirement already satisfied: oauthlib>=3.0.0 in /usr/local/lib/python3.7/dist-packages (from requests-oauthlib>=0.7.0->google-auth-oauthlib<0.5,>=0.4.1->tensorboard->keras-tuner>=1.1.0->autokeras) (3.2.0)\n",
      "Requirement already satisfied: decorator in /usr/local/lib/python3.7/dist-packages (from ipython->keras-tuner>=1.1.0->autokeras) (4.4.2)\n",
      "Requirement already satisfied: traitlets>=4.2 in /usr/local/lib/python3.7/dist-packages (from ipython->keras-tuner>=1.1.0->autokeras) (5.2.0)\n",
      "Requirement already satisfied: prompt-toolkit<2.0.0,>=1.0.4 in /usr/local/lib/python3.7/dist-packages (from ipython->keras-tuner>=1.1.0->autokeras) (1.0.18)\n",
      "Requirement already satisfied: pygments in /usr/local/lib/python3.7/dist-packages (from ipython->keras-tuner>=1.1.0->autokeras) (2.6.1)\n",
      "Requirement already satisfied: pickleshare in /usr/local/lib/python3.7/dist-packages (from ipython->keras-tuner>=1.1.0->autokeras) (0.7.5)\n",
      "Requirement already satisfied: pexpect in /usr/local/lib/python3.7/dist-packages (from ipython->keras-tuner>=1.1.0->autokeras) (4.8.0)\n",
      "Requirement already satisfied: simplegeneric>0.8 in /usr/local/lib/python3.7/dist-packages (from ipython->keras-tuner>=1.1.0->autokeras) (0.8.1)\n",
      "Requirement already satisfied: wcwidth in /usr/local/lib/python3.7/dist-packages (from prompt-toolkit<2.0.0,>=1.0.4->ipython->keras-tuner>=1.1.0->autokeras) (0.2.5)\n",
      "Requirement already satisfied: pyparsing!=3.0.5,>=2.0.2 in /usr/local/lib/python3.7/dist-packages (from packaging->autokeras) (3.0.9)\n",
      "Requirement already satisfied: pytz>=2017.3 in /usr/local/lib/python3.7/dist-packages (from pandas->autokeras) (2022.1)\n",
      "Requirement already satisfied: python-dateutil>=2.7.3 in /usr/local/lib/python3.7/dist-packages (from pandas->autokeras) (2.8.2)\n",
      "Requirement already satisfied: ptyprocess>=0.5 in /usr/local/lib/python3.7/dist-packages (from pexpect->ipython->keras-tuner>=1.1.0->autokeras) (0.7.0)\n",
      "Installing collected packages: tf-estimator-nightly, kt-legacy, keras-tuner, autokeras\n",
      "Successfully installed autokeras-1.0.19 keras-tuner-1.1.2 kt-legacy-1.0.4 tf-estimator-nightly-2.8.0.dev2021122109\n"
     ]
    }
   ],
   "source": [
    "!pip install autokeras"
   ]
  },
  {
   "cell_type": "code",
   "execution_count": 16,
   "metadata": {
    "executionInfo": {
     "elapsed": 383,
     "status": "ok",
     "timestamp": 1652851453520,
     "user": {
      "displayName": "Andres Orrego Perez",
      "userId": "03068921959993022654"
     },
     "user_tz": 300
    },
    "id": "YDgQmmfCnmv8"
   },
   "outputs": [],
   "source": [
    "from google_play_scraper import app\n",
    "import pandas as pd\n",
    "import autokeras as ak\n",
    "import numpy as np"
   ]
  },
  {
   "cell_type": "markdown",
   "metadata": {
    "id": "PjKbwR_snmv9"
   },
   "source": [
    "# Data acquisition"
   ]
  },
  {
   "cell_type": "code",
   "execution_count": 17,
   "metadata": {
    "colab": {
     "base_uri": "https://localhost:8080/",
     "height": 582
    },
    "executionInfo": {
     "elapsed": 4293,
     "status": "ok",
     "timestamp": 1652851404666,
     "user": {
      "displayName": "Andres Orrego Perez",
      "userId": "03068921959993022654"
     },
     "user_tz": 300
    },
    "id": "VxjytRUfnmv_",
    "outputId": "378b958b-16f4-4dd7-8681-242340d7b4c8"
   },
   "outputs": [
    {
     "data": {
      "text/html": [
       "<div>\n",
       "<style scoped>\n",
       "    .dataframe tbody tr th:only-of-type {\n",
       "        vertical-align: middle;\n",
       "    }\n",
       "\n",
       "    .dataframe tbody tr th {\n",
       "        vertical-align: top;\n",
       "    }\n",
       "\n",
       "    .dataframe thead th {\n",
       "        text-align: right;\n",
       "    }\n",
       "</style>\n",
       "<table border=\"1\" class=\"dataframe\">\n",
       "  <thead>\n",
       "    <tr style=\"text-align: right;\">\n",
       "      <th></th>\n",
       "      <th>reviewId</th>\n",
       "      <th>userName</th>\n",
       "      <th>userImage</th>\n",
       "      <th>content</th>\n",
       "      <th>score</th>\n",
       "      <th>thumbsUpCount</th>\n",
       "      <th>reviewCreatedVersion</th>\n",
       "      <th>at</th>\n",
       "      <th>replyContent</th>\n",
       "      <th>repliedAt</th>\n",
       "    </tr>\n",
       "  </thead>\n",
       "  <tbody>\n",
       "    <tr>\n",
       "      <th>0</th>\n",
       "      <td>gp:AOqpTOHL6eLxiN3a-wG6n6ZBk_xy3UTKRfZsrrXkQXg...</td>\n",
       "      <td>Carlos Suarez Fontalvo</td>\n",
       "      <td>https://play-lh.googleusercontent.com/a-/AOh14...</td>\n",
       "      <td>Cuando inicia pide permisos de administrador</td>\n",
       "      <td>3</td>\n",
       "      <td>0</td>\n",
       "      <td>13.1.2</td>\n",
       "      <td>2022-05-16 09:56:18</td>\n",
       "      <td>¡Buen día Carlos! Gracias por informarnos, déj...</td>\n",
       "      <td>2022-05-16 16:11:17</td>\n",
       "    </tr>\n",
       "    <tr>\n",
       "      <th>1</th>\n",
       "      <td>gp:AOqpTOGwrOkCjvWiuFc7vy16bN5obNX-LpL_mwjMAJI...</td>\n",
       "      <td>Samuel Alvarez Alvarez</td>\n",
       "      <td>https://play-lh.googleusercontent.com/a-/AOh14...</td>\n",
       "      <td>Ay va</td>\n",
       "      <td>4</td>\n",
       "      <td>0</td>\n",
       "      <td>13.1.2</td>\n",
       "      <td>2022-05-15 23:55:43</td>\n",
       "      <td>¡Buen día Sanuel! Gracias por tu calificación.</td>\n",
       "      <td>2022-05-16 16:03:47</td>\n",
       "    </tr>\n",
       "    <tr>\n",
       "      <th>2</th>\n",
       "      <td>gp:AOqpTOFgP1jpj4VTYkmgdahwE3pVhGn0t34Ujg15djM...</td>\n",
       "      <td>alberto ortiz</td>\n",
       "      <td>https://play-lh.googleusercontent.com/a-/AOh14...</td>\n",
       "      <td>Muy buena</td>\n",
       "      <td>5</td>\n",
       "      <td>0</td>\n",
       "      <td>13.1.2</td>\n",
       "      <td>2022-05-15 17:06:08</td>\n",
       "      <td>¡Muy buen día Alberto! Gracias por tu comentar...</td>\n",
       "      <td>2022-05-16 14:19:19</td>\n",
       "    </tr>\n",
       "    <tr>\n",
       "      <th>3</th>\n",
       "      <td>gp:AOqpTOHevOQutSRJd8INkHsUj8vto9P1NDG9Im_2zV3...</td>\n",
       "      <td>Ivan Gonzalez Muñoz</td>\n",
       "      <td>https://play-lh.googleusercontent.com/a-/AOh14...</td>\n",
       "      <td>Excelente hasta el momento el servicio Aunque ...</td>\n",
       "      <td>5</td>\n",
       "      <td>0</td>\n",
       "      <td>13.1.2</td>\n",
       "      <td>2022-05-15 11:28:34</td>\n",
       "      <td>¡Buen día Ivan! Gracias por tu calificación, p...</td>\n",
       "      <td>2022-05-16 12:48:16</td>\n",
       "    </tr>\n",
       "    <tr>\n",
       "      <th>4</th>\n",
       "      <td>gp:AOqpTOES1a4a5a2im6fVwgWw_bvY08L8OxMOC_5WNqJ...</td>\n",
       "      <td>Alejandra Martin Higuera</td>\n",
       "      <td>https://play-lh.googleusercontent.com/a-/AOh14...</td>\n",
       "      <td>Presenta muchos errores la aplicación, varios ...</td>\n",
       "      <td>1</td>\n",
       "      <td>0</td>\n",
       "      <td>13.1.2</td>\n",
       "      <td>2022-05-14 11:33:53</td>\n",
       "      <td>¡Hola Alejandra! Queremos brindarte la mejor e...</td>\n",
       "      <td>2022-05-14 16:36:03</td>\n",
       "    </tr>\n",
       "  </tbody>\n",
       "</table>\n",
       "</div>"
      ],
      "text/plain": [
       "                                            reviewId  \\\n",
       "0  gp:AOqpTOHL6eLxiN3a-wG6n6ZBk_xy3UTKRfZsrrXkQXg...   \n",
       "1  gp:AOqpTOGwrOkCjvWiuFc7vy16bN5obNX-LpL_mwjMAJI...   \n",
       "2  gp:AOqpTOFgP1jpj4VTYkmgdahwE3pVhGn0t34Ujg15djM...   \n",
       "3  gp:AOqpTOHevOQutSRJd8INkHsUj8vto9P1NDG9Im_2zV3...   \n",
       "4  gp:AOqpTOES1a4a5a2im6fVwgWw_bvY08L8OxMOC_5WNqJ...   \n",
       "\n",
       "                   userName  \\\n",
       "0    Carlos Suarez Fontalvo   \n",
       "1    Samuel Alvarez Alvarez   \n",
       "2             alberto ortiz   \n",
       "3       Ivan Gonzalez Muñoz   \n",
       "4  Alejandra Martin Higuera   \n",
       "\n",
       "                                           userImage  \\\n",
       "0  https://play-lh.googleusercontent.com/a-/AOh14...   \n",
       "1  https://play-lh.googleusercontent.com/a-/AOh14...   \n",
       "2  https://play-lh.googleusercontent.com/a-/AOh14...   \n",
       "3  https://play-lh.googleusercontent.com/a-/AOh14...   \n",
       "4  https://play-lh.googleusercontent.com/a-/AOh14...   \n",
       "\n",
       "                                             content  score  thumbsUpCount  \\\n",
       "0       Cuando inicia pide permisos de administrador      3              0   \n",
       "1                                              Ay va      4              0   \n",
       "2                                          Muy buena      5              0   \n",
       "3  Excelente hasta el momento el servicio Aunque ...      5              0   \n",
       "4  Presenta muchos errores la aplicación, varios ...      1              0   \n",
       "\n",
       "  reviewCreatedVersion                  at  \\\n",
       "0               13.1.2 2022-05-16 09:56:18   \n",
       "1               13.1.2 2022-05-15 23:55:43   \n",
       "2               13.1.2 2022-05-15 17:06:08   \n",
       "3               13.1.2 2022-05-15 11:28:34   \n",
       "4               13.1.2 2022-05-14 11:33:53   \n",
       "\n",
       "                                        replyContent           repliedAt  \n",
       "0  ¡Buen día Carlos! Gracias por informarnos, déj... 2022-05-16 16:11:17  \n",
       "1     ¡Buen día Sanuel! Gracias por tu calificación. 2022-05-16 16:03:47  \n",
       "2  ¡Muy buen día Alberto! Gracias por tu comentar... 2022-05-16 14:19:19  \n",
       "3  ¡Buen día Ivan! Gracias por tu calificación, p... 2022-05-16 12:48:16  \n",
       "4  ¡Hola Alejandra! Queremos brindarte la mejor e... 2022-05-14 16:36:03  "
      ]
     },
     "execution_count": 17,
     "metadata": {},
     "output_type": "execute_result"
    }
   ],
   "source": [
    "from google_play_scraper import Sort, reviews_all\n",
    "\n",
    "\n",
    "us_reviews = reviews_all(\n",
    "    'com.clarocolombia.miclaro',\n",
    "    sleep_milliseconds=0, # defaults to 0\n",
    "    lang='en', # defaults to 'en'\n",
    "    country='us', # defaults to 'us'\n",
    "    sort=Sort.NEWEST, # defaults to Sort.MOST_RELEVANT\n",
    ")\n",
    "df = pd.DataFrame(np.array(us_reviews),columns=['review'])\n",
    "df = df.join(pd.DataFrame(df.pop('review').tolist()))\n",
    "df.head()"
   ]
  },
  {
   "cell_type": "markdown",
   "metadata": {
    "id": "jFrF8Z1hnmwA"
   },
   "source": [
    "# Preprocessing"
   ]
  },
  {
   "cell_type": "code",
   "execution_count": 18,
   "metadata": {
    "colab": {
     "base_uri": "https://localhost:8080/",
     "height": 582
    },
    "executionInfo": {
     "elapsed": 13,
     "status": "ok",
     "timestamp": 1652851404667,
     "user": {
      "displayName": "Andres Orrego Perez",
      "userId": "03068921959993022654"
     },
     "user_tz": 300
    },
    "id": "_4V83eStnmwB",
    "outputId": "95fcbfe0-b37c-4b04-afb5-b16430c510df"
   },
   "outputs": [
    {
     "data": {
      "text/html": [
       "<div>\n",
       "<style scoped>\n",
       "    .dataframe tbody tr th:only-of-type {\n",
       "        vertical-align: middle;\n",
       "    }\n",
       "\n",
       "    .dataframe tbody tr th {\n",
       "        vertical-align: top;\n",
       "    }\n",
       "\n",
       "    .dataframe thead th {\n",
       "        text-align: right;\n",
       "    }\n",
       "</style>\n",
       "<table border=\"1\" class=\"dataframe\">\n",
       "  <thead>\n",
       "    <tr style=\"text-align: right;\">\n",
       "      <th></th>\n",
       "      <th>reviewId</th>\n",
       "      <th>userName</th>\n",
       "      <th>userImage</th>\n",
       "      <th>content</th>\n",
       "      <th>score</th>\n",
       "      <th>thumbsUpCount</th>\n",
       "      <th>reviewCreatedVersion</th>\n",
       "      <th>at</th>\n",
       "      <th>replyContent</th>\n",
       "      <th>repliedAt</th>\n",
       "      <th>positiveComment</th>\n",
       "    </tr>\n",
       "  </thead>\n",
       "  <tbody>\n",
       "    <tr>\n",
       "      <th>0</th>\n",
       "      <td>gp:AOqpTOHL6eLxiN3a-wG6n6ZBk_xy3UTKRfZsrrXkQXg...</td>\n",
       "      <td>Carlos Suarez Fontalvo</td>\n",
       "      <td>https://play-lh.googleusercontent.com/a-/AOh14...</td>\n",
       "      <td>Cuando inicia pide permisos de administrador</td>\n",
       "      <td>3</td>\n",
       "      <td>0</td>\n",
       "      <td>13.1.2</td>\n",
       "      <td>2022-05-16 09:56:18</td>\n",
       "      <td>¡Buen día Carlos! Gracias por informarnos, déj...</td>\n",
       "      <td>2022-05-16 16:11:17</td>\n",
       "      <td>0</td>\n",
       "    </tr>\n",
       "    <tr>\n",
       "      <th>1</th>\n",
       "      <td>gp:AOqpTOGwrOkCjvWiuFc7vy16bN5obNX-LpL_mwjMAJI...</td>\n",
       "      <td>Samuel Alvarez Alvarez</td>\n",
       "      <td>https://play-lh.googleusercontent.com/a-/AOh14...</td>\n",
       "      <td>Ay va</td>\n",
       "      <td>4</td>\n",
       "      <td>0</td>\n",
       "      <td>13.1.2</td>\n",
       "      <td>2022-05-15 23:55:43</td>\n",
       "      <td>¡Buen día Sanuel! Gracias por tu calificación.</td>\n",
       "      <td>2022-05-16 16:03:47</td>\n",
       "      <td>1</td>\n",
       "    </tr>\n",
       "    <tr>\n",
       "      <th>2</th>\n",
       "      <td>gp:AOqpTOFgP1jpj4VTYkmgdahwE3pVhGn0t34Ujg15djM...</td>\n",
       "      <td>alberto ortiz</td>\n",
       "      <td>https://play-lh.googleusercontent.com/a-/AOh14...</td>\n",
       "      <td>Muy buena</td>\n",
       "      <td>5</td>\n",
       "      <td>0</td>\n",
       "      <td>13.1.2</td>\n",
       "      <td>2022-05-15 17:06:08</td>\n",
       "      <td>¡Muy buen día Alberto! Gracias por tu comentar...</td>\n",
       "      <td>2022-05-16 14:19:19</td>\n",
       "      <td>1</td>\n",
       "    </tr>\n",
       "    <tr>\n",
       "      <th>3</th>\n",
       "      <td>gp:AOqpTOHevOQutSRJd8INkHsUj8vto9P1NDG9Im_2zV3...</td>\n",
       "      <td>Ivan Gonzalez Muñoz</td>\n",
       "      <td>https://play-lh.googleusercontent.com/a-/AOh14...</td>\n",
       "      <td>Excelente hasta el momento el servicio Aunque ...</td>\n",
       "      <td>5</td>\n",
       "      <td>0</td>\n",
       "      <td>13.1.2</td>\n",
       "      <td>2022-05-15 11:28:34</td>\n",
       "      <td>¡Buen día Ivan! Gracias por tu calificación, p...</td>\n",
       "      <td>2022-05-16 12:48:16</td>\n",
       "      <td>1</td>\n",
       "    </tr>\n",
       "    <tr>\n",
       "      <th>4</th>\n",
       "      <td>gp:AOqpTOES1a4a5a2im6fVwgWw_bvY08L8OxMOC_5WNqJ...</td>\n",
       "      <td>Alejandra Martin Higuera</td>\n",
       "      <td>https://play-lh.googleusercontent.com/a-/AOh14...</td>\n",
       "      <td>Presenta muchos errores la aplicación, varios ...</td>\n",
       "      <td>1</td>\n",
       "      <td>0</td>\n",
       "      <td>13.1.2</td>\n",
       "      <td>2022-05-14 11:33:53</td>\n",
       "      <td>¡Hola Alejandra! Queremos brindarte la mejor e...</td>\n",
       "      <td>2022-05-14 16:36:03</td>\n",
       "      <td>0</td>\n",
       "    </tr>\n",
       "  </tbody>\n",
       "</table>\n",
       "</div>"
      ],
      "text/plain": [
       "                                            reviewId  \\\n",
       "0  gp:AOqpTOHL6eLxiN3a-wG6n6ZBk_xy3UTKRfZsrrXkQXg...   \n",
       "1  gp:AOqpTOGwrOkCjvWiuFc7vy16bN5obNX-LpL_mwjMAJI...   \n",
       "2  gp:AOqpTOFgP1jpj4VTYkmgdahwE3pVhGn0t34Ujg15djM...   \n",
       "3  gp:AOqpTOHevOQutSRJd8INkHsUj8vto9P1NDG9Im_2zV3...   \n",
       "4  gp:AOqpTOES1a4a5a2im6fVwgWw_bvY08L8OxMOC_5WNqJ...   \n",
       "\n",
       "                   userName  \\\n",
       "0    Carlos Suarez Fontalvo   \n",
       "1    Samuel Alvarez Alvarez   \n",
       "2             alberto ortiz   \n",
       "3       Ivan Gonzalez Muñoz   \n",
       "4  Alejandra Martin Higuera   \n",
       "\n",
       "                                           userImage  \\\n",
       "0  https://play-lh.googleusercontent.com/a-/AOh14...   \n",
       "1  https://play-lh.googleusercontent.com/a-/AOh14...   \n",
       "2  https://play-lh.googleusercontent.com/a-/AOh14...   \n",
       "3  https://play-lh.googleusercontent.com/a-/AOh14...   \n",
       "4  https://play-lh.googleusercontent.com/a-/AOh14...   \n",
       "\n",
       "                                             content  score  thumbsUpCount  \\\n",
       "0       Cuando inicia pide permisos de administrador      3              0   \n",
       "1                                              Ay va      4              0   \n",
       "2                                          Muy buena      5              0   \n",
       "3  Excelente hasta el momento el servicio Aunque ...      5              0   \n",
       "4  Presenta muchos errores la aplicación, varios ...      1              0   \n",
       "\n",
       "  reviewCreatedVersion                  at  \\\n",
       "0               13.1.2 2022-05-16 09:56:18   \n",
       "1               13.1.2 2022-05-15 23:55:43   \n",
       "2               13.1.2 2022-05-15 17:06:08   \n",
       "3               13.1.2 2022-05-15 11:28:34   \n",
       "4               13.1.2 2022-05-14 11:33:53   \n",
       "\n",
       "                                        replyContent           repliedAt  \\\n",
       "0  ¡Buen día Carlos! Gracias por informarnos, déj... 2022-05-16 16:11:17   \n",
       "1     ¡Buen día Sanuel! Gracias por tu calificación. 2022-05-16 16:03:47   \n",
       "2  ¡Muy buen día Alberto! Gracias por tu comentar... 2022-05-16 14:19:19   \n",
       "3  ¡Buen día Ivan! Gracias por tu calificación, p... 2022-05-16 12:48:16   \n",
       "4  ¡Hola Alejandra! Queremos brindarte la mejor e... 2022-05-14 16:36:03   \n",
       "\n",
       "   positiveComment  \n",
       "0                0  \n",
       "1                1  \n",
       "2                1  \n",
       "3                1  \n",
       "4                0  "
      ]
     },
     "execution_count": 18,
     "metadata": {},
     "output_type": "execute_result"
    }
   ],
   "source": [
    "def get_positive_comment(row):\n",
    "    return 1 if(row>3) else 0\n",
    "    \n",
    "df['positiveComment'] = df['score'].apply(get_positive_comment)\n",
    "\n",
    "df.head()"
   ]
  },
  {
   "cell_type": "markdown",
   "metadata": {
    "id": "DJrHK7CDnmwC"
   },
   "source": [
    "# Classifier Training"
   ]
  },
  {
   "cell_type": "code",
   "execution_count": 19,
   "metadata": {
    "colab": {
     "base_uri": "https://localhost:8080/"
    },
    "executionInfo": {
     "elapsed": 68797,
     "status": "ok",
     "timestamp": 1652852957296,
     "user": {
      "displayName": "Andres Orrego Perez",
      "userId": "03068921959993022654"
     },
     "user_tz": 300
    },
    "id": "Z1sHBzKEn3FB",
    "outputId": "4535a58b-cd55-4d1d-be54-b9c6795f4dab"
   },
   "outputs": [
    {
     "name": "stdout",
     "output_type": "stream",
     "text": [
      "Trial 2 Complete [00h 00m 12s]\n",
      "val_loss: 0.6976454257965088\n",
      "\n",
      "Best val_loss So Far: 0.5399093627929688\n",
      "Total elapsed time: 00h 00m 27s\n",
      "INFO:tensorflow:Oracle triggered exit\n",
      "Epoch 1/2\n",
      "52/52 [==============================] - 8s 127ms/step - loss: 0.5138 - accuracy: 0.7440\n",
      "Epoch 2/2\n",
      "52/52 [==============================] - 6s 122ms/step - loss: 0.3822 - accuracy: 0.8634\n",
      "INFO:tensorflow:Assets written to: .\\text_classifier\\best_model\\assets\n"
     ]
    },
    {
     "data": {
      "text/plain": [
       "<keras.callbacks.History at 0x20a54f03af0>"
      ]
     },
     "execution_count": 19,
     "metadata": {},
     "output_type": "execute_result"
    }
   ],
   "source": [
    "X_train = df[\"content\"].values\n",
    "y_train = df[\"positiveComment\"].values\n",
    "clf = ak.TextClassifier(overwrite=True, max_trials=2)\n",
    "# Feed the tensorflow Dataset to the classifier.\n",
    "clf.fit(X_train,y_train, epochs=2)"
   ]
  },
  {
   "cell_type": "markdown",
   "metadata": {
    "id": "hPIrM2cRqc9j"
   },
   "source": [
    "Save model"
   ]
  },
  {
   "cell_type": "code",
   "execution_count": 20,
   "metadata": {
    "colab": {
     "base_uri": "https://localhost:8080/"
    },
    "executionInfo": {
     "elapsed": 2556,
     "status": "ok",
     "timestamp": 1652852959840,
     "user": {
      "displayName": "Andres Orrego Perez",
      "userId": "03068921959993022654"
     },
     "user_tz": 300
    },
    "id": "YuHeQg4cq2Gc",
    "outputId": "fdcf1bdd-a5f3-4152-d273-54ab815155cd"
   },
   "outputs": [
    {
     "name": "stdout",
     "output_type": "stream",
     "text": [
      "INFO:tensorflow:Assets written to: models/classifier\\assets\n"
     ]
    }
   ],
   "source": [
    "clf.export_model().save(\"models/classifier\")"
   ]
  },
  {
   "cell_type": "markdown",
   "metadata": {
    "id": "lF8cHFNto9dG"
   },
   "source": [
    "# Regressor Training"
   ]
  },
  {
   "cell_type": "code",
   "execution_count": 6,
   "metadata": {
    "colab": {
     "base_uri": "https://localhost:8080/"
    },
    "executionInfo": {
     "elapsed": 22513,
     "status": "ok",
     "timestamp": 1652852986598,
     "user": {
      "displayName": "Andres Orrego Perez",
      "userId": "03068921959993022654"
     },
     "user_tz": 300
    },
    "id": "jj_AsjsOo9yu",
    "outputId": "e0e5a8f6-b529-4292-cf06-4ac9e5f21cc9"
   },
   "outputs": [
    {
     "name": "stdout",
     "output_type": "stream",
     "text": [
      "Trial 2 Complete [00h 00m 06s]\n",
      "val_loss: 2.837764024734497\n",
      "\n",
      "Best val_loss So Far: 2.837764024734497\n",
      "Total elapsed time: 00h 00m 11s\n",
      "INFO:tensorflow:Oracle triggered exit\n",
      "Epoch 1/2\n",
      "52/52 [==============================] - 3s 35ms/step - loss: 2.8280 - mean_squared_error: 2.8280\n",
      "Epoch 2/2\n",
      "52/52 [==============================] - 2s 36ms/step - loss: 2.2563 - mean_squared_error: 2.2563\n",
      "INFO:tensorflow:Assets written to: .\\text_regressor\\best_model\\assets\n"
     ]
    },
    {
     "data": {
      "text/plain": [
       "<keras.callbacks.History at 0x2294ac684f0>"
      ]
     },
     "execution_count": 6,
     "metadata": {},
     "output_type": "execute_result"
    }
   ],
   "source": [
    "X_train = df[\"content\"].values\n",
    "y_train = df[\"score\"].values\n",
    "rgs = ak.TextRegressor(overwrite=True, max_trials=2)\n",
    "# Feed the tensorflow Dataset to the classifier.\n",
    "rgs.fit(X_train,y_train, epochs=2)"
   ]
  },
  {
   "cell_type": "markdown",
   "metadata": {
    "id": "r2jeXRVur3Vz"
   },
   "source": [
    "save model"
   ]
  },
  {
   "cell_type": "code",
   "execution_count": 7,
   "metadata": {
    "colab": {
     "base_uri": "https://localhost:8080/"
    },
    "executionInfo": {
     "elapsed": 3064,
     "status": "ok",
     "timestamp": 1652852989651,
     "user": {
      "displayName": "Andres Orrego Perez",
      "userId": "03068921959993022654"
     },
     "user_tz": 300
    },
    "id": "iar2-Q-rr34g",
    "outputId": "7d76dff3-7d8f-45b0-f19b-8cf01f49edd8"
   },
   "outputs": [
    {
     "name": "stdout",
     "output_type": "stream",
     "text": [
      "INFO:tensorflow:Assets written to: models/regressor\\assets\n"
     ]
    }
   ],
   "source": [
    "rgs.export_model().save(\"models/regressor\")"
   ]
  }
 ],
 "metadata": {
  "colab": {
   "name": "Models Dev.ipynb",
   "provenance": []
  },
  "kernelspec": {
   "display_name": "Python 3",
   "language": "python",
   "name": "python3"
  },
  "language_info": {
   "codemirror_mode": {
    "name": "ipython",
    "version": 3
   },
   "file_extension": ".py",
   "mimetype": "text/x-python",
   "name": "python",
   "nbconvert_exporter": "python",
   "pygments_lexer": "ipython3",
   "version": "3.8.5"
  }
 },
 "nbformat": 4,
 "nbformat_minor": 4
}
